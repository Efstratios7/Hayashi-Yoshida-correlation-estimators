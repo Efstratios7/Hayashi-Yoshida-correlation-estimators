{
 "cells": [
  {
   "cell_type": "code",
   "execution_count": null,
   "id": "d8f6db75-7011-4ecc-a1c4-e840d2ad96b2",
   "metadata": {},
   "outputs": [],
   "source": [
    "import numpy as np\n",
    "import random"
   ]
  },
  {
   "cell_type": "markdown",
   "id": "163dca09-76f2-4d30-89b7-7ea6841f3ec8",
   "metadata": {},
   "source": [
    "### Returns an array of random tuples which indicate the starting and ending points of the intervals"
   ]
  },
  {
   "cell_type": "code",
   "execution_count": null,
   "id": "abbc7e4a-9743-4001-b0ba-ffe46a002314",
   "metadata": {},
   "outputs": [],
   "source": [
    "def Interv(Length,Num):\n",
    "    \"\"\"\n",
    "    Args:\n",
    "    - Length (int): total length of you time series\n",
    "    - Num (int): amount of wanted tuples\n",
    "    \"\"\"\n",
    "    Ints = []\n",
    "    while len(Ints)!=Num:\n",
    "        first = random.sample(range(0, Length-10), 1)[0]\n",
    "        second = random.sample(range(first, Length-10),1)[0]\n",
    "        \n",
    "        if first+second<Length:\n",
    "            Ints.append((first,second))\n",
    "    return Ints"
   ]
  },
  {
   "cell_type": "markdown",
   "id": "540bd8e1-ae73-4c4f-8e71-712298178cad",
   "metadata": {},
   "source": [
    "### Returns the difference between the last and first value of the given interval. Indicated as Delta P in the paper"
   ]
  },
  {
   "cell_type": "code",
   "execution_count": null,
   "id": "b84de906-536d-4e2a-bd81-371f09fa12d6",
   "metadata": {},
   "outputs": [],
   "source": [
    "def Increments(data,start,end):\n",
    "    \"\"\"\n",
    "    Args:\n",
    "    - data (numpy array): time series of one the random process\n",
    "    - start (int): interval start\n",
    "    - end (int): interval end\n",
    "    \"\"\"\n",
    "    first = 0\n",
    "    last = 0\n",
    "    for i in range(end-start):\n",
    "        if data[start+i]!=0:\n",
    "            first+=data[start+i]\n",
    "            break\n",
    "    for i in range(end-start,-1,-1):\n",
    "        if data[start+i]!=0:\n",
    "            last+=data[start+i]\n",
    "            break\n",
    "            \n",
    "    return last-first"
   ]
  },
  {
   "cell_type": "code",
   "execution_count": null,
   "id": "4be2ea89-a783-49e3-98c0-e6d7ad42c82c",
   "metadata": {},
   "outputs": [],
   "source": [
    "def R1n(P1, P2, intervals, sigma1, sigma2):\n",
    "    \"\"\"\n",
    "    Calculate correlation estimator R(1)_n.\n",
    "    \n",
    "    Args:\n",
    "    - P1 (numpy array): First diffusion process.\n",
    "    - P2 (numpy array): Second diffusion process.\n",
    "    - intervals (list of tuples): List of tuples representing random intervals.\n",
    "    - sigma1 (float): Standard deviation of process 1.\n",
    "    - sigma2 (float): Standard deviation of process 2.\n",
    "    \n",
    "    Returns:\n",
    "    - float: Correlation estimator R(1)_n.\n",
    "    \"\"\"\n",
    "    n = len(intervals)\n",
    "    sum_corr = 0\n",
    "    for i in range(n):\n",
    "        for j in range(n):\n",
    "            if i != j:\n",
    "                interval1 = intervals[i]\n",
    "                interval2 = intervals[j]\n",
    "                intersect = min(interval1[1], interval2[1]) - max(interval1[0], interval2[0])\n",
    "                if intersect > 0:\n",
    "                    sum_corr += (Increments(P1,interval1[0],interval1[1])*Increments(P2,interval2[0],interval2[1])) / (sigma1 * sigma2)\n",
    "    return sum_corr / n"
   ]
  },
  {
   "cell_type": "code",
   "execution_count": null,
   "id": "604062ee-0360-4887-93d2-21189c1a38d2",
   "metadata": {},
   "outputs": [],
   "source": [
    "def R2n(P1, P2, intervals):\n",
    "    \"\"\"\n",
    "    Calculate correlation estimator R(2)_n.\n",
    "    \n",
    "    Args:\n",
    "    - P1 (numpy array): First diffusion process.\n",
    "    - P2 (numpy array): Second diffusion process.\n",
    "    - intervals (list of tuples): List of tuples representing random intervals.\n",
    "    - sigma1_known (bool): Whether sigma1 is known or unknown.\n",
    "    - sigma2_known (bool): Whether sigma2 is known or unknown.\n",
    "    \n",
    "    Returns:\n",
    "    - float: Correlation estimator R(2)_n.\n",
    "    \"\"\"\n",
    "    n = len(intervals)\n",
    "    sum_num = 0\n",
    "    sum_den1 = 0\n",
    "    sum_den2 = 0\n",
    "    for i in range(n):\n",
    "        for j in range(n):\n",
    "            if i != j:\n",
    "                interval1 = intervals[i]\n",
    "                interval2 = intervals[j]\n",
    "                intersect = min(interval1[1], interval2[1]) - max(interval1[0], interval2[0])\n",
    "                if intersect > 0:\n",
    "                    DP1 = Increments(P1,interval1[0],interval1[1])\n",
    "                    DP2 = Increments(P2,interval2[0],interval2[1])\n",
    "                    sum_num += DP1*DP2\n",
    "                    sum_den1 += DP1**2\n",
    "                    sum_den2 += DP2**2\n",
    "    denominator = np.sqrt(sum_den1)*np.sqrt(sum_den2)\n",
    "    return sum_num / denominator"
   ]
  },
  {
   "cell_type": "code",
   "execution_count": null,
   "id": "abbd0fad-6f77-446c-b48d-eaadbe27f9f0",
   "metadata": {},
   "outputs": [],
   "source": []
  }
 ],
 "metadata": {
  "kernelspec": {
   "display_name": "Python 3 (ipykernel)",
   "language": "python",
   "name": "python3"
  },
  "language_info": {
   "codemirror_mode": {
    "name": "ipython",
    "version": 3
   },
   "file_extension": ".py",
   "mimetype": "text/x-python",
   "name": "python",
   "nbconvert_exporter": "python",
   "pygments_lexer": "ipython3",
   "version": "3.10.12"
  }
 },
 "nbformat": 4,
 "nbformat_minor": 5
}
